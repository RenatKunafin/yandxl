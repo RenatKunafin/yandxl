{
 "metadata": {
  "language_info": {
   "codemirror_mode": {
    "name": "ipython",
    "version": 3
   },
   "file_extension": ".py",
   "mimetype": "text/x-python",
   "name": "python",
   "nbconvert_exporter": "python",
   "pygments_lexer": "ipython3",
   "version": "3.7.2"
  },
  "orig_nbformat": 2,
  "kernelspec": {
   "name": "pythonjvsc74a57bd0f24aa674aa9cccab1d79966682d206ba3f32ed5ea5d2246fcf9e1f20f8dea280",
   "display_name": "Python 3.7.2  ('.venv': venv)"
  },
  "metadata": {
   "interpreter": {
    "hash": "f24aa674aa9cccab1d79966682d206ba3f32ed5ea5d2246fcf9e1f20f8dea280"
   }
  }
 },
 "nbformat": 4,
 "nbformat_minor": 2,
 "cells": [
  {
   "cell_type": "code",
   "execution_count": 4,
   "metadata": {},
   "outputs": [
    {
     "output_type": "stream",
     "name": "stdout",
     "text": [
      "{'bbb': 111}\n111\n"
     ]
    }
   ],
   "source": [
    "d = {\n",
    "    'aaa': {\n",
    "        'bbb': 111\n",
    "    }\n",
    "}\n",
    "print(d['aaa'])\n",
    "print(d['aaa']['bbb'])"
   ]
  },
  {
   "cell_type": "code",
   "execution_count": null,
   "metadata": {},
   "outputs": [],
   "source": []
  }
 ]
}